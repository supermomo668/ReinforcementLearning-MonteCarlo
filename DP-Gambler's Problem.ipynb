{
 "cells": [
  {
   "cell_type": "code",
   "execution_count": 35,
   "metadata": {},
   "outputs": [],
   "source": [
    "import numpy as np\n",
    "import sys\n",
    "import matplotlib.pyplot as plt"
   ]
  },
  {
   "cell_type": "markdown",
   "metadata": {},
   "source": [
    "* rewards[s+a], rewards[s-a] are immediate rewards.\n",
    "* V[s+a], V[s-a] are values of the next states.\n",
    "* This is the core of the Bellman equation: The expected value of your action is the sum of immediate rewards and the value of the next state."
   ]
  },
  {
   "cell_type": "code",
   "execution_count": 61,
   "metadata": {},
   "outputs": [],
   "source": [
    "def value_iteration_for_gamblers(p_h, theta=1e-5, discount_factor=1):\n",
    "    \"\"\"\n",
    "    Args:\n",
    "        p_h: Probability of the coin coming up heads\n",
    "    \"\"\"\n",
    "\n",
    "    rewards = np.zeros(101)\n",
    "    rewards[100] = 1 \n",
    "    V = np.zeros(101)\n",
    "    \n",
    "    def one_step_lookahead(s, V, rewards):\n",
    "        \"\"\"\n",
    "        Helper function to calculate the value for all action in a given state.\n",
    "        Args:\n",
    "            s: The gambler’s capital. Integer.\n",
    "            V: The vector that contains values at each state. \n",
    "            rewards: The reward vector.      \n",
    "        Returns:\n",
    "            A vector containing the expected value of each action. \n",
    "            Its length equals to the number of actions.\n",
    "        \"\"\"\n",
    "        A = np.zeros(101)\n",
    "        stakes = range(1, min(s, 100-s)+1) # Your minimum bet is 1, maximum bet is min(s, 100-s).\n",
    "        for a in stakes:\n",
    "            win_reward = rewards[s+a]; win_next_state_val = V[s+a]\n",
    "            lose_reward = rewards[s-a]; lose_next_state_val = V[s-a]\n",
    "            A[a] = p_h * (win_reward + win_next_state_val*discount_factor) + \\\n",
    "                    (1-p_h) * (lose_reward + lose_next_state_val*discount_factor)\n",
    "        return A\n",
    "    \n",
    "    while True:\n",
    "        # Stopping condition\n",
    "        delta = 0\n",
    "        # Update each state...\n",
    "        for s in range(1, 100):\n",
    "            A = one_step_lookahead(s, V, rewards)\n",
    "            best_action_value = np.max(A)\n",
    "            delta = max(delta, np.abs(best_action_value - V[s]))   # Calculate delta across all states seen so far\n",
    "            V[s] = best_action_value        \n",
    "        if delta < theta:\n",
    "            break\n",
    "    \n",
    "    # Create a deterministic policy using the optimal value function\n",
    "    policy = np.zeros(100)\n",
    "    for s in range(1, 100):\n",
    "        # One step lookahead to find the best action for this state\n",
    "        A = one_step_lookahead(s, V, rewards)\n",
    "        best_action = np.argmax(A)\n",
    "        # Always take the best action\n",
    "        policy[s] = best_action    \n",
    "    return policy, V\n",
    "\n",
    "policy, v = value_iteration_for_gamblers(0.25)"
   ]
  },
  {
   "cell_type": "code",
   "execution_count": 62,
   "metadata": {},
   "outputs": [
    {
     "data": {
      "image/png": "[encoded data removed]",
      "text/plain": [
       "<Figure size 432x288 with 2 Axes>"
      ]
     },
     "metadata": {
      "needs_background": "light"
     },
     "output_type": "display_data"
    }
   ],
   "source": [
    "fig, axes = plt.subplots(2,1); ax = axes.ravel(); \n",
    "x = range(100)\n",
    "ax[0].plot(x, v[:100])\n",
    "ax[0].set_xlabel('Capital'); ax[0].set_ylabel('Value Estimates')\n",
    "ax[0].set_title('Final Policy (action stake) vs State (Capital)')\n",
    "\n",
    "ax[1].bar(x, policy, align='center', alpha=0.5)\n",
    "ax[1].set_xlabel('Capital'); ax[1].set_ylabel('Final policy (stake)')\n",
    "ax[1].set_title('Capital vs Final Policy')\n",
    "fig.tight_layout()"
   ]
  }
 ],
 "metadata": {
  "kernelspec": {
   "display_name": "Python [conda env:tfcv] *",
   "language": "python",
   "name": "conda-env-tfcv-py"
  },
  "language_info": {
   "codemirror_mode": {
    "name": "ipython",
    "version": 3
   },
   "file_extension": ".py",
   "mimetype": "text/x-python",
   "name": "python",
   "nbconvert_exporter": "python",
   "pygments_lexer": "ipython3",
   "version": "3.8.5"
  }
 },
 "nbformat": 4,
 "nbformat_minor": 4
}
